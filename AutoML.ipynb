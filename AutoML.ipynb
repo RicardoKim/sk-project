{
 "metadata": {
  "language_info": {
   "codemirror_mode": {
    "name": "ipython",
    "version": 3
   },
   "file_extension": ".py",
   "mimetype": "text/x-python",
   "name": "python",
   "nbconvert_exporter": "python",
   "pygments_lexer": "ipython3",
   "version": "3.6.12-final"
  },
  "orig_nbformat": 2,
  "kernelspec": {
   "name": "python361264bittf20condac799051767e34370a951b9642bb0f625",
   "display_name": "Python 3.6.12 64-bit ('tf2.0': conda)",
   "language": "python"
  }
 },
 "nbformat": 4,
 "nbformat_minor": 2,
 "cells": [
  {
   "cell_type": "code",
   "execution_count": null,
   "metadata": {},
   "outputs": [],
   "source": [
    "import pandas as pd"
   ]
  },
  {
   "cell_type": "code",
   "execution_count": null,
   "metadata": {
    "tags": []
   },
   "outputs": [],
   "source": [
    "data = pd.read_csv('DataSet.csv')"
   ]
  },
  {
   "cell_type": "code",
   "execution_count": null,
   "metadata": {},
   "outputs": [],
   "source": [
    "new_column =data.loc[2]\n",
    "data = data[3:]\n",
    "data = data.drop(['Unnamed: 0'], axis = 1)\n",
    "data.columns = new_column[1:]"
   ]
  },
  {
   "cell_type": "code",
   "execution_count": null,
   "metadata": {},
   "outputs": [],
   "source": [
    "number_data = data.copy()\n",
    "for feature in data.columns:\n",
    "    number_data[feature] = pd.to_numeric(data[feature])\n",
    "number_data = number_data.drop(['Reward'], axis = 1)"
   ]
  },
  {
   "cell_type": "code",
   "execution_count": null,
   "metadata": {},
   "outputs": [],
   "source": [
    "from pycaret.regression import *"
   ]
  },
  {
   "cell_type": "code",
   "execution_count": null,
   "metadata": {},
   "outputs": [],
   "source": [
    "clf = setup(data = number_data, target = '현재값')"
   ]
  },
  {
   "cell_type": "code",
   "execution_count": null,
   "metadata": {},
   "outputs": [],
   "source": [
    "best_3 = compare_models(sort = 'mse')"
   ]
  },
  {
   "cell_type": "code",
   "execution_count": null,
   "metadata": {},
   "outputs": [],
   "source": [
    "et = create_model('et', cross_validation = False)\n",
    "rf = create_model('rf', cross_validation = False)\n",
    "ct = create_model('catboost', cross_validation = False)"
   ]
  },
  {
   "cell_type": "code",
   "execution_count": null,
   "metadata": {},
   "outputs": [],
   "source": [
    "# tuned_cat = tune_model(et, optimize = 'MAPE', n_iter = 10)\n",
    "tuned_xgb = tune_model(rf, optimize = 'MAPE', n_iter = 10)\n",
    "tuned_gbr = tune_model(ct, optimize = 'MAPE', n_iter = 10)"
   ]
  },
  {
   "cell_type": "code",
   "execution_count": null,
   "metadata": {},
   "outputs": [],
   "source": []
  }
 ]
}