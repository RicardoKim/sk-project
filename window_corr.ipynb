{
 "metadata": {
  "language_info": {
   "codemirror_mode": {
    "name": "ipython",
    "version": 3
   },
   "file_extension": ".py",
   "mimetype": "text/x-python",
   "name": "python",
   "nbconvert_exporter": "python",
   "pygments_lexer": "ipython3",
   "version": "3.6.12-final"
  },
  "orig_nbformat": 2,
  "kernelspec": {
   "name": "python361264bittf20condac799051767e34370a951b9642bb0f625",
   "display_name": "Python 3.6.12 64-bit ('tf2.0': conda)",
   "language": "python"
  }
 },
 "nbformat": 4,
 "nbformat_minor": 2,
 "cells": [
  {
   "cell_type": "code",
   "execution_count": null,
   "metadata": {},
   "outputs": [],
   "source": [
    "import pandas as pd\n",
    "import matplotlib.pyplot as plt\n",
    "import os\n",
    "%matplotlib inline"
   ]
  },
  {
   "cell_type": "code",
   "execution_count": null,
   "metadata": {},
   "outputs": [],
   "source": [
    "data = pd.read_csv('DataSet.csv')\n",
    "data = data.drop(['Unnamed: 0'], axis = 1)"
   ]
  },
  {
   "cell_type": "code",
   "execution_count": null,
   "metadata": {},
   "outputs": [],
   "source": [
    "data.columns = data.iloc[2].to_numpy()"
   ]
  },
  {
   "cell_type": "code",
   "execution_count": null,
   "metadata": {},
   "outputs": [],
   "source": [
    "data = data[3:]"
   ]
  },
  {
   "cell_type": "code",
   "execution_count": null,
   "metadata": {},
   "outputs": [],
   "source": [
    "number_data = data.copy()\n",
    "for feature in data.columns:\n",
    "    number_data[feature] = pd.to_numeric(data[feature])"
   ]
  },
  {
   "cell_type": "code",
   "execution_count": null,
   "metadata": {},
   "outputs": [],
   "source": [
    "number_data"
   ]
  },
  {
   "cell_type": "code",
   "execution_count": null,
   "metadata": {},
   "outputs": [],
   "source": [
    "number_data = number_data.drop(['Reward'], axis = 1)"
   ]
  },
  {
   "cell_type": "code",
   "execution_count": null,
   "metadata": {},
   "outputs": [],
   "source": [
    "env_column = number_data.columns.to_numpy()[3:]"
   ]
  },
  {
   "cell_type": "code",
   "execution_count": null,
   "metadata": {},
   "outputs": [],
   "source": [
    "window_list = [4, 6 , 8, 10]\n",
    "for window in window_list:\n",
    "    corr_dataframe = pd.DataFrame()\n",
    "    for env in env_column:\n",
    "        corr_dataframe[env] = number_data[env].rolling(window).corr(number_data[number_data.columns[0]])\n",
    "    column_without_nan = corr_dataframe.dropna()\n",
    "    column_without_nan = column_without_nan[(column_without_nan<1) & (column_without_nan>-1)]\n",
    "    column_without_nan.to_csv('window_corr/' + str(window) + '.csv')\n",
    "    column_without_nan.describe().to_csv('window_corr_describe/'+ str(window) + '.csv')\n",
    "    for column in column_without_nan.columns:\n",
    "        plt.figure(figsize=(10,2))\n",
    "        column_without_nan[column].plot()\n",
    "        path = 'image' + '/' + str(window) \n",
    "        if not os.path.exists(path):\n",
    "            os.makedirs(path)\n",
    "        plt.savefig(path + '/' + column + '.png' )\n",
    "        plt.clf()"
   ]
  },
  {
   "cell_type": "code",
   "execution_count": null,
   "metadata": {},
   "outputs": [],
   "source": [
    "column_without_nan"
   ]
  },
  {
   "cell_type": "code",
   "execution_count": null,
   "metadata": {},
   "outputs": [],
   "source": [
    "column_without_nan.describe()"
   ]
  },
  {
   "cell_type": "code",
   "execution_count": null,
   "metadata": {},
   "outputs": [],
   "source": []
  }
 ]
}